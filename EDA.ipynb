{
 "cells": [
  {
   "cell_type": "code",
   "execution_count": null,
   "metadata": {
    "collapsed": true
   },
   "outputs": [],
   "source": [
    "# /usr/bin/env python3\n",
    "import os\n",
    "import sys\n",
    "import numpy as np\n",
    "import pandas as pd\n",
    "import matplotlib.pyplot as plt\n",
    "%matplotlib inline\n",
    "import re\n",
    "import jieba\n",
    "from collections import Counter"
   ]
  },
  {
   "cell_type": "code",
   "execution_count": null,
   "metadata": {
    "collapsed": true
   },
   "outputs": [],
   "source": [
    "df_train = pd.read_csv('./data/train.csv')\n",
    "df_test = pd.read_csv('./data/test.csv')"
   ]
  },
  {
   "cell_type": "code",
   "execution_count": null,
   "metadata": {
    "collapsed": false
   },
   "outputs": [],
   "source": [
    "df_train.head()\n",
    "# df_test.head()"
   ]
  },
  {
   "cell_type": "code",
   "execution_count": null,
   "metadata": {
    "collapsed": false
   },
   "outputs": [],
   "source": [
    "# 标签比例\n",
    "df_train['flag'].hist()"
   ]
  },
  {
   "cell_type": "code",
   "execution_count": null,
   "metadata": {
    "collapsed": false
   },
   "outputs": [],
   "source": [
    "df_train['len_title'] = df_train['title'].apply(lambda x: 0 if type(x) is float else len(x))\n",
    "df_train['len_content'] = df_train['content'].apply(lambda x: 0 if type(x) is float else len(x))\n",
    "df_train[['len_title','len_content']].describe()"
   ]
  },
  {
   "cell_type": "code",
   "execution_count": null,
   "metadata": {
    "collapsed": false,
    "scrolled": true
   },
   "outputs": [],
   "source": [
    "# 标题长度\n",
    "df_train['title'].apply(lambda x: len(x)).hist(bins=100)"
   ]
  },
  {
   "cell_type": "code",
   "execution_count": null,
   "metadata": {
    "collapsed": false
   },
   "outputs": [],
   "source": [
    "# 查看超过150个字的标题\n",
    "df_title_more150 = df_train[df_train['title'].apply(lambda x: len(x)>150)]\n",
    "for index, row in df_title_more150.iterrows():\n",
    "    print(row['title'])\n",
    "    print(row['flag'])\n",
    "    print('\\n')"
   ]
  },
  {
   "cell_type": "code",
   "execution_count": null,
   "metadata": {
    "collapsed": false
   },
   "outputs": [],
   "source": [
    "'''\n",
    "预处理掉类似这种内容：\n",
    "1. ';}Ie_+='';Kc_(sy_,Ie_);}}function ht_(){var Sm_=aJ_();for (sy_=0; sy_< wF_.length;aT_++){var nv_=oX_(wF_[aT_],'_');Ie_+='';}Ie_+='';Kc_(sy_,Ie_);}else{var wF_= oX_(nK_[sy_],',');var Ie_='';for (aT_=0; aT_< wF_.length;aT_++){Ie_+=Mg_(wF_[\n",
    "2. 緈冨_吶庅羙 2017/02/04 18:43:53 发表在 19楼 \n",
    "'''\n",
    "pat_case1 = r'[\\'a-zA-Z_+=();}{,0-9<\\s\\[\\]\\.]{50,}'\n",
    "pat_case2 = r'发表在.{0,5}(楼|板凳)'\n",
    "instr1 = 'sampson0219 2017/01/08 09:56:02 发表在 板凳 同等 但是如果价位太高出来就可以放弃了 非要选gl8 不如选新款乞丐 低配20 高配24是有吸引力的 这还是建立在给的配置都不错上 毕竟2.5比不过2.0t 新款乞丐配置也不差 \\\n",
    "真皮很好解决 如果2.5减配严重 价位还不便宜 不如等等新款优惠 或者考虑别的确实，一看价格二看配置，\\\n",
    "离谱了就没几个人选了。等吧我也是等了好久了，新款一出来还真给吓着了，2.5的估计好不了哪去。发表在 板凳'\n",
    "instr = \"3.13号提车回泰安后发现车内太朴素～想这么调弄点亮条套餐威霆内饰亮条都塑料中网也有点失落过段时间中网行李驾还有腰线亮条作业我导航4500米算贵需要址我跟家说那些动动60001万你们哪来底气～真弄明白～ ';}oR_+='';iq_(TY_,oR_);}}function Pn_(){var Kx_=BQ_();for (TY_=0; TY_< mS_.length;RY_++){var Kh_=yO_(mS_[RY_],'_');oR_+='';}oR_+='';iq_(TY_,oR_);}else{v\"\n",
    "# pat = re.compile(pat_case2, re.M|re.I)\n",
    "# obj = pat.search(instr)\n",
    "# obj\n",
    "# print(obj)\n",
    "def remove_str(instr, pat):\n",
    "    patc = re.compile(pat, re.M|re.I)\n",
    "    obj = patc.search(instr)\n",
    "    if obj is None:\n",
    "        return instr\n",
    "#     print(obj.group(0))\n",
    "    pos = instr.find(obj.group(0))\n",
    "    outstr = instr.replace(obj.group(0), '')\n",
    "    return outstr\n",
    "    \n",
    "def process_case1(instr):\n",
    "    return remove_str(instr, pat_case1)\n",
    "\n",
    "def process_case2(instr):\n",
    "    pat = re.compile(pat_case2, re.M|re.I)\n",
    "    obj = pat.search(instr)\n",
    "    if obj is None:\n",
    "        return instr\n",
    "    return instr[instr.find(obj.group(0))+len(obj.group(0)):]\n",
    "\n",
    "print(process_case2(instr1))\n",
    "\n"
   ]
  },
  {
   "cell_type": "code",
   "execution_count": null,
   "metadata": {
    "collapsed": true
   },
   "outputs": [],
   "source": [
    "def process_str(instr):\n",
    "    o_str = instr\n",
    "    o_str = process_case1(o_str)\n",
    "    o_str = process_case2(o_str)\n",
    "    return o_str"
   ]
  },
  {
   "cell_type": "code",
   "execution_count": null,
   "metadata": {
    "collapsed": false
   },
   "outputs": [],
   "source": [
    "process_str(instr)"
   ]
  },
  {
   "cell_type": "code",
   "execution_count": null,
   "metadata": {
    "collapsed": true
   },
   "outputs": [],
   "source": [
    "# df_train['title'] = df_train['title'].apply(lambda x: process_str(x))"
   ]
  },
  {
   "cell_type": "code",
   "execution_count": null,
   "metadata": {
    "collapsed": false
   },
   "outputs": [],
   "source": [
    "# 查看超过150个字的标题\n",
    "df_title_more150 = df_train[df_train['title'].apply(lambda x: len(x)>150)]\n",
    "for index, row in df_title_more150.iterrows():\n",
    "    print(row['title'])\n",
    "    print(row['flag'])\n",
    "    print('\\n')"
   ]
  },
  {
   "cell_type": "code",
   "execution_count": null,
   "metadata": {
    "collapsed": false
   },
   "outputs": [],
   "source": [
    "# 查看不超过5个字的标题\n",
    "df_title_more150 = df_train[df_train['title'].apply(lambda x: len(x)<15)]\n",
    "for index, row in df_title_more150.iterrows():\n",
    "    print(row['title'])\n",
    "    print(row['flag'])\n",
    "    print('\\n')"
   ]
  },
  {
   "cell_type": "code",
   "execution_count": null,
   "metadata": {
    "collapsed": false
   },
   "outputs": [],
   "source": [
    "# 内容长度\n",
    "df_train['content'].apply(lambda x: 0 if type(x) is float else len(x)).hist(bins=100)"
   ]
  },
  {
   "cell_type": "code",
   "execution_count": null,
   "metadata": {
    "collapsed": false
   },
   "outputs": [],
   "source": []
  },
  {
   "cell_type": "code",
   "execution_count": null,
   "metadata": {
    "collapsed": false
   },
   "outputs": [],
   "source": []
  },
  {
   "cell_type": "code",
   "execution_count": null,
   "metadata": {
    "collapsed": false
   },
   "outputs": [],
   "source": [
    "# 查看超过1500个字的内容\n",
    "df_title_more150 = df_train[df_train['content'].apply(lambda x: type(x) is not float and len(x)>1500)]\n",
    "for index, row in df_title_more150.iterrows():\n",
    "    print(row['flag'])\n",
    "    print(row['title'])\n",
    "    print(row['content'])\n",
    "    print('\\n')"
   ]
  },
  {
   "cell_type": "code",
   "execution_count": null,
   "metadata": {
    "collapsed": false
   },
   "outputs": [],
   "source": [
    "# 训练集：检查是否标题是内容的一部分\n",
    "cnt_total = 0\n",
    "cnt_repetition = 0\n",
    "for index, row in df_train.iterrows():\n",
    "    cnt_total += 1\n",
    "    if type(row['title']) is float or type(row['content']) is float:\n",
    "        continue\n",
    "    if row['title'] not in row['content']:\n",
    "        cnt_repetition += 1\n",
    "        print(row['flag'])\n",
    "        print(row['title'])\n",
    "        print(row['content'])\n",
    "        print('\\n')\n",
    "print('{}/{} = {:.3f}'.format(cnt_repetition, cnt_total, cnt_repetition/cnt_total))"
   ]
  },
  {
   "cell_type": "code",
   "execution_count": null,
   "metadata": {
    "collapsed": false
   },
   "outputs": [],
   "source": [
    "# 测试集：检查是否标题是内容的一部分\n",
    "cnt_total = 0\n",
    "cnt_repetition = 0\n",
    "for index, row in df_test.iterrows():\n",
    "    cnt_total += 1\n",
    "    if type(row['title']) is float or type(row['content']) is float:\n",
    "        continue\n",
    "    if row['title'] not in row['content']:\n",
    "        cnt_repetition += 1\n",
    "#         print(row['flag'])\n",
    "        print(row['title'])\n",
    "        print(row['content'])\n",
    "        print('\\n')\n",
    "print('{}/{} = {:.3f}'.format(cnt_repetition, cnt_total, cnt_repetition/cnt_total))"
   ]
  },
  {
   "cell_type": "code",
   "execution_count": null,
   "metadata": {
    "collapsed": false,
    "scrolled": true
   },
   "outputs": [],
   "source": [
    "# 对所有的1数据进行分词，对所有的0数据进行分词，比对结果\n",
    "all_words1 = []\n",
    "all_words0 = []\n",
    "for index, row in df_train.iterrows():\n",
    "    if type(row['title']) is float or type(row['content']) is float:\n",
    "        continue\n",
    "    if row['flag'] == 1:\n",
    "        all_words1 += list(jieba.cut(row['title']))\n",
    "        all_words1 += list(jieba.cut(row['content']))\n",
    "    else:\n",
    "        all_words0 += list(jieba.cut(row['title']))\n",
    "        all_words0 += list(jieba.cut(row['content']))\n",
    "all_words1_dict = Counter(all_words1)\n",
    "all_words0_dict = Counter(all_words0)\n",
    "all_words1_dict_filtered = {k:v for k,v in all_words1_dict.items() if len(k) > 1 and v > 12}\n",
    "all_words0_dict_filtered = {k:v for k,v in all_words0_dict.items() if len(k) > 1 and v > 12}\n",
    "\n",
    "# 查找那些词只存在于1中\n",
    "words_only_in1 = {}\n",
    "for key, val in all_words1_dict_filtered.items():\n",
    "    if key not in all_words0_dict:\n",
    "        words_only_in1[key] = val\n",
    "        \n",
    "# 查找那些词只存在于0中\n",
    "words_only_in0 = {}\n",
    "for key, val in all_words0_dict_filtered.items():\n",
    "    if key not in all_words1_dict:\n",
    "        words_only_in0[key] = val\n",
    "        \n",
    "print(words_only_in1)\n",
    "print('\\n\\n')\n",
    "print(words_only_in0)"
   ]
  },
  {
   "cell_type": "code",
   "execution_count": null,
   "metadata": {
    "collapsed": true
   },
   "outputs": [],
   "source": [
    "a = '据了解，别克GL8车型只有单侧电动中门，而改装的左右两侧都电动的，但中门使用比较频繁的东西，很多车主都会为爱车加装电动中门功能，因为有了电动中门的GL8使用起来具备这些好处： 　　别克GL8改装电动门好处1：解决完美主义者单侧电动门的痛苦  　　别克GL8自带的电动中门，但乃至顶配也只配了一个右侧自动侧滑门，左侧仍然手动，这对于强迫症的车友来说，这非常一件令人痛苦的事情，改装左侧电动门后，左右对称了，痛苦也就消失了。 　　别克GL8改装自动侧滑门好处2：方便人员乘座车  　　全家出门旅游，慢慢走向停在路边的GL8，你提着大包小包，老婆一手提着大包行李，一手牵着淘气的孩子，还要照顾行动不便的老人，如果此时还要手动来打开中门，那是多么的不便。安装了电动中门就能在没人帮助的情况下，让中门自动打开，让所有人一次性安全上下车。 　　别克GL8改装自动侧滑门好处3：让客户满意的商务接待  　　客户越来越多，生意越来越好，今天有位重要客户前来，老总亲自前往迎接。将GL8车内喷上客户最爱的香水、车里播放最流行的音乐、放一本最新的时尚杂志，这些就够了吗？难道要让客户自己动手并使劲拉开中门？    　　GL8的第一大优点就是“大”。5米多的车里只放3排座位，腿部空间大得让任何人毫无怨言。很多车主为了进一步提升驾乘体验，会改装木地板，一般首选缅甸柚木，一千年不腐，二季节稳定性好。 　　整体铺设效果图。经典红木色，墨线精美、油影柔美、形成千姿百态的纹理结构，大气、典雅。 '\n",
    "ccc = Counter(list(jieba.cut(a)))"
   ]
  },
  {
   "cell_type": "code",
   "execution_count": null,
   "metadata": {
    "collapsed": false
   },
   "outputs": [],
   "source": [
    "ccc1 = {k:v for k,v in ccc.items() if len(k) > 1 and v > 2}\n",
    "ccc1"
   ]
  },
  {
   "cell_type": "code",
   "execution_count": null,
   "metadata": {
    "collapsed": false
   },
   "outputs": [],
   "source": [
    "for k,v in ccc1.items():\n",
    "    print(k)"
   ]
  },
  {
   "cell_type": "code",
   "execution_count": null,
   "metadata": {
    "collapsed": true
   },
   "outputs": [],
   "source": [
    "df_result = pd.read_csv('all_info_pred_14_2.csv')\n",
    "df_result_out = df_result.copy()"
   ]
  },
  {
   "cell_type": "code",
   "execution_count": null,
   "metadata": {
    "collapsed": false
   },
   "outputs": [],
   "source": [
    "print(df_result_out.head())"
   ]
  },
  {
   "cell_type": "code",
   "execution_count": null,
   "metadata": {
    "collapsed": false
   },
   "outputs": [],
   "source": [
    "df_result = pd.merge(df_result, df_test)\n",
    "print(df_result.head())"
   ]
  },
  {
   "cell_type": "code",
   "execution_count": null,
   "metadata": {
    "collapsed": true
   },
   "outputs": [],
   "source": []
  },
  {
   "cell_type": "code",
   "execution_count": null,
   "metadata": {
    "collapsed": false
   },
   "outputs": [],
   "source": [
    "cnt_total = 0\n",
    "cnt_repetition = 0\n",
    "suspect_dict1 = {}\n",
    "for index, row in df_result.iterrows():\n",
    "    if row['flag'] != 1:\n",
    "        continue\n",
    "    cnt_total += 1\n",
    "    concat_str = str(row['title']) + '\\t\\t\\t\\t' + str(row['content'])\n",
    "    rep_time = 0  # 重复次数\n",
    "    rep_words = []  # 包含于words_only_in0中，重复词的个数\n",
    "    for key, val in words_only_in0.items():\n",
    "        if key in concat_str:\n",
    "            rep_time += 1\n",
    "            rep_words.append(key)\n",
    "#             break\n",
    "    if len(rep_words) > 0:\n",
    "        rep_words = ';'.join(rep_words)\n",
    "        suspect_dict1[row['id']] = rep_words\n",
    "#         print('===> {}\\t\\t{}'.format(rep_words, concat_str))\n",
    "#         print('\\n\\n')\n",
    "    cnt_repetition += 1 if rep_time > 0 else 0\n",
    "print('{}/{} = {:.3f}'.format(cnt_repetition, cnt_total, cnt_repetition/cnt_total))\n",
    "for k,v in suspect_dict1.items():\n",
    "    print('{}:\\t{}'.format(k,v))\n",
    "# remove 64\n",
    "df_result_new = df_result_out.copy()\n",
    "for key,val in suspect_dict1.items():\n",
    "    if val == '64':\n",
    "        continue\n",
    "    index = df_result_new[df_result_new['id'] == key].index\n",
    "    df_result_new.iloc[index,3] = 0  # 1对应第1列（从第0列开始），根据自己的数据，应该改为3\n",
    "    print(df_result_new.loc[index])\n",
    "    print('convert {} 1 to 0'.format(key))"
   ]
  },
  {
   "cell_type": "code",
   "execution_count": null,
   "metadata": {
    "collapsed": false
   },
   "outputs": [],
   "source": [
    "cnt_total = 0\n",
    "cnt_repetition = 0\n",
    "suspect_dict0 = {}\n",
    "for index, row in df_result.iterrows():\n",
    "    if row['flag'] != 0:\n",
    "        continue\n",
    "    cnt_total += 1\n",
    "    concat_str = str(row['title']) + '\\t\\t\\t\\t' + str(row['content'])\n",
    "    rep_time = 0\n",
    "    rep_words = []\n",
    "    for key, val in words_only_in1.items():\n",
    "        if key in concat_str:\n",
    "            rep_time += 1\n",
    "            rep_words.append(key)\n",
    "#             break\n",
    "    if len(rep_words) > 0:\n",
    "        rep_words = ';'.join(rep_words)\n",
    "        suspect_dict0[row['id']] = rep_words\n",
    "        print('===> {}\\t\\t{}'.format(rep_words, concat_str))\n",
    "        print('\\n\\n')\n",
    "    cnt_repetition += 1 if rep_time > 0 else 0\n",
    "print('{}/{} = {:.3f}'.format(cnt_repetition, cnt_total, cnt_repetition/cnt_total))\n",
    "print(suspect_dict0)\n",
    "for key,val in suspect_dict0.items():\n",
    "    if val == '64':\n",
    "        continue\n",
    "    index = df_result_new[df_result_new['id'] == key].index\n",
    "    df_result_new.iloc[index,3] = 1"
   ]
  },
  {
   "cell_type": "code",
   "execution_count": null,
   "metadata": {
    "collapsed": true
   },
   "outputs": [],
   "source": [
    "df_result_new.to_csv('all_info_pred_14_2_correct.csv', index=False, encoding='utf-8')"
   ]
  },
  {
   "cell_type": "code",
   "execution_count": null,
   "metadata": {
    "collapsed": true
   },
   "outputs": [],
   "source": [
    "df_result_new[['id', 'flag']].to_csv('pred_14_2_correct.csv', index=False, encoding='utf-8')"
   ]
  },
  {
   "cell_type": "code",
   "execution_count": null,
   "metadata": {
    "collapsed": true
   },
   "outputs": [],
   "source": []
  }
 ],
 "metadata": {
  "anaconda-cloud": {},
  "kernelspec": {
   "display_name": "Python [default]",
   "language": "python",
   "name": "python3"
  },
  "language_info": {
   "codemirror_mode": {
    "name": "ipython",
    "version": 3
   },
   "file_extension": ".py",
   "mimetype": "text/x-python",
   "name": "python",
   "nbconvert_exporter": "python",
   "pygments_lexer": "ipython3",
   "version": "3.5.6"
  }
 },
 "nbformat": 4,
 "nbformat_minor": 2
}
